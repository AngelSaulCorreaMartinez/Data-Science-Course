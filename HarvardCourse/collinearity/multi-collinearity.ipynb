{
 "cells": [
  {
   "cell_type": "markdown",
   "id": "52a464b9",
   "metadata": {},
   "source": [
    "# Multi-collinearity vs Model Predictions"
   ]
  },
  {
   "cell_type": "code",
   "execution_count": 1,
   "id": "22910a90",
   "metadata": {},
   "outputs": [],
   "source": [
    "import pandas as pd"
   ]
  },
  {
   "cell_type": "code",
   "execution_count": 2,
   "id": "094f1422",
   "metadata": {},
   "outputs": [],
   "source": [
    "#Read file\n",
    "df = pd.read_csv('../data_sets/MulticollinearityExample.csv')"
   ]
  },
  {
   "cell_type": "code",
   "execution_count": 3,
   "id": "02f0e287",
   "metadata": {},
   "outputs": [
    {
     "data": {
      "text/html": [
       "<div>\n",
       "<style scoped>\n",
       "    .dataframe tbody tr th:only-of-type {\n",
       "        vertical-align: middle;\n",
       "    }\n",
       "\n",
       "    .dataframe tbody tr th {\n",
       "        vertical-align: top;\n",
       "    }\n",
       "\n",
       "    .dataframe thead th {\n",
       "        text-align: right;\n",
       "    }\n",
       "</style>\n",
       "<table border=\"1\" class=\"dataframe\">\n",
       "  <thead>\n",
       "    <tr style=\"text-align: right;\">\n",
       "      <th></th>\n",
       "      <th>Femoral Neck</th>\n",
       "      <th>%Fat</th>\n",
       "      <th>Weight kg</th>\n",
       "      <th>Activity</th>\n",
       "      <th>%Fat S</th>\n",
       "      <th>Weight S</th>\n",
       "      <th>Activity S</th>\n",
       "    </tr>\n",
       "  </thead>\n",
       "  <tbody>\n",
       "    <tr>\n",
       "      <th>0</th>\n",
       "      <td>0.934</td>\n",
       "      <td>25.3</td>\n",
       "      <td>52.163126</td>\n",
       "      <td>3508.44</td>\n",
       "      <td>-3.265217</td>\n",
       "      <td>-1.765066</td>\n",
       "      <td>NaN</td>\n",
       "    </tr>\n",
       "    <tr>\n",
       "      <th>1</th>\n",
       "      <td>0.888</td>\n",
       "      <td>29.3</td>\n",
       "      <td>61.801964</td>\n",
       "      <td>2773.54</td>\n",
       "      <td>0.734783</td>\n",
       "      <td>7.873772</td>\n",
       "      <td>211.550435</td>\n",
       "    </tr>\n",
       "    <tr>\n",
       "      <th>2</th>\n",
       "      <td>0.933</td>\n",
       "      <td>37.7</td>\n",
       "      <td>93.440034</td>\n",
       "      <td>1738.97</td>\n",
       "      <td>9.134783</td>\n",
       "      <td>39.511842</td>\n",
       "      <td>-823.019565</td>\n",
       "    </tr>\n",
       "    <tr>\n",
       "      <th>3</th>\n",
       "      <td>0.757</td>\n",
       "      <td>32.8</td>\n",
       "      <td>59.874197</td>\n",
       "      <td>1665.29</td>\n",
       "      <td>4.234783</td>\n",
       "      <td>5.946005</td>\n",
       "      <td>-896.699565</td>\n",
       "    </tr>\n",
       "    <tr>\n",
       "      <th>4</th>\n",
       "      <td>1.031</td>\n",
       "      <td>24.6</td>\n",
       "      <td>50.348756</td>\n",
       "      <td>3982.95</td>\n",
       "      <td>-3.965217</td>\n",
       "      <td>-3.579436</td>\n",
       "      <td>1420.960435</td>\n",
       "    </tr>\n",
       "  </tbody>\n",
       "</table>\n",
       "</div>"
      ],
      "text/plain": [
       "   Femoral Neck  %Fat  Weight kg  Activity    %Fat S   Weight S   Activity S\n",
       "0         0.934  25.3  52.163126   3508.44 -3.265217  -1.765066          NaN\n",
       "1         0.888  29.3  61.801964   2773.54  0.734783   7.873772   211.550435\n",
       "2         0.933  37.7  93.440034   1738.97  9.134783  39.511842  -823.019565\n",
       "3         0.757  32.8  59.874197   1665.29  4.234783   5.946005  -896.699565\n",
       "4         1.031  24.6  50.348756   3982.95 -3.965217  -3.579436  1420.960435"
      ]
     },
     "execution_count": 3,
     "metadata": {},
     "output_type": "execute_result"
    }
   ],
   "source": [
    "df.head()"
   ]
  },
  {
   "cell_type": "markdown",
   "id": "f440c527",
   "metadata": {},
   "source": [
    "### Creation of linear regression objects"
   ]
  },
  {
   "cell_type": "code",
   "execution_count": null,
   "id": "ba2aad9b",
   "metadata": {},
   "outputs": [],
   "source": [
    "X = df.drop(['Activity S'], axis=1)\n",
    "y = df"
   ]
  }
 ],
 "metadata": {
  "kernelspec": {
   "display_name": "venv",
   "language": "python",
   "name": "python3"
  },
  "language_info": {
   "codemirror_mode": {
    "name": "ipython",
    "version": 3
   },
   "file_extension": ".py",
   "mimetype": "text/x-python",
   "name": "python",
   "nbconvert_exporter": "python",
   "pygments_lexer": "ipython3",
   "version": "3.13.1"
  }
 },
 "nbformat": 4,
 "nbformat_minor": 5
}
