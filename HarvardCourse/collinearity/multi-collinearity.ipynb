{
 "cells": [
  {
   "cell_type": "markdown",
   "id": "52a464b9",
   "metadata": {},
   "source": [
    "# Multi-collinearity vs Model Predictions"
   ]
  },
  {
   "cell_type": "code",
   "execution_count": 1,
   "id": "22910a90",
   "metadata": {},
   "outputs": [],
   "source": [
    "import pandas as pd\n",
    "from sklearn.linear_model import LinearRegression\n",
    "import seaborn as sns\n",
    "import matplotlib.pyplot as plt"
   ]
  },
  {
   "cell_type": "code",
   "execution_count": 2,
   "id": "094f1422",
   "metadata": {},
   "outputs": [],
   "source": [
    "#Read file\n",
    "df = pd.read_csv('../data_sets/MulticollinearityExample.csv')\n",
    "#Delet NaN\n",
    "df = df.dropna()"
   ]
  },
  {
   "cell_type": "code",
   "execution_count": 3,
   "id": "02f0e287",
   "metadata": {},
   "outputs": [
    {
     "data": {
      "text/html": [
       "<div>\n",
       "<style scoped>\n",
       "    .dataframe tbody tr th:only-of-type {\n",
       "        vertical-align: middle;\n",
       "    }\n",
       "\n",
       "    .dataframe tbody tr th {\n",
       "        vertical-align: top;\n",
       "    }\n",
       "\n",
       "    .dataframe thead th {\n",
       "        text-align: right;\n",
       "    }\n",
       "</style>\n",
       "<table border=\"1\" class=\"dataframe\">\n",
       "  <thead>\n",
       "    <tr style=\"text-align: right;\">\n",
       "      <th></th>\n",
       "      <th>Femoral Neck</th>\n",
       "      <th>%Fat</th>\n",
       "      <th>Weight kg</th>\n",
       "      <th>Activity</th>\n",
       "      <th>%Fat S</th>\n",
       "      <th>Weight S</th>\n",
       "      <th>Activity S</th>\n",
       "    </tr>\n",
       "  </thead>\n",
       "  <tbody>\n",
       "    <tr>\n",
       "      <th>1</th>\n",
       "      <td>0.888</td>\n",
       "      <td>29.3</td>\n",
       "      <td>61.801964</td>\n",
       "      <td>2773.54</td>\n",
       "      <td>0.734783</td>\n",
       "      <td>7.873772</td>\n",
       "      <td>211.550435</td>\n",
       "    </tr>\n",
       "    <tr>\n",
       "      <th>2</th>\n",
       "      <td>0.933</td>\n",
       "      <td>37.7</td>\n",
       "      <td>93.440034</td>\n",
       "      <td>1738.97</td>\n",
       "      <td>9.134783</td>\n",
       "      <td>39.511842</td>\n",
       "      <td>-823.019565</td>\n",
       "    </tr>\n",
       "    <tr>\n",
       "      <th>3</th>\n",
       "      <td>0.757</td>\n",
       "      <td>32.8</td>\n",
       "      <td>59.874197</td>\n",
       "      <td>1665.29</td>\n",
       "      <td>4.234783</td>\n",
       "      <td>5.946005</td>\n",
       "      <td>-896.699565</td>\n",
       "    </tr>\n",
       "    <tr>\n",
       "      <th>4</th>\n",
       "      <td>1.031</td>\n",
       "      <td>24.6</td>\n",
       "      <td>50.348756</td>\n",
       "      <td>3982.95</td>\n",
       "      <td>-3.965217</td>\n",
       "      <td>-3.579436</td>\n",
       "      <td>1420.960435</td>\n",
       "    </tr>\n",
       "    <tr>\n",
       "      <th>5</th>\n",
       "      <td>0.883</td>\n",
       "      <td>26.5</td>\n",
       "      <td>57.606235</td>\n",
       "      <td>2985.74</td>\n",
       "      <td>-2.065217</td>\n",
       "      <td>3.678043</td>\n",
       "      <td>423.750435</td>\n",
       "    </tr>\n",
       "  </tbody>\n",
       "</table>\n",
       "</div>"
      ],
      "text/plain": [
       "   Femoral Neck  %Fat  Weight kg  Activity    %Fat S   Weight S   Activity S\n",
       "1         0.888  29.3  61.801964   2773.54  0.734783   7.873772   211.550435\n",
       "2         0.933  37.7  93.440034   1738.97  9.134783  39.511842  -823.019565\n",
       "3         0.757  32.8  59.874197   1665.29  4.234783   5.946005  -896.699565\n",
       "4         1.031  24.6  50.348756   3982.95 -3.965217  -3.579436  1420.960435\n",
       "5         0.883  26.5  57.606235   2985.74 -2.065217   3.678043   423.750435"
      ]
     },
     "execution_count": 3,
     "metadata": {},
     "output_type": "execute_result"
    }
   ],
   "source": [
    "df.head()"
   ]
  },
  {
   "cell_type": "markdown",
   "id": "f440c527",
   "metadata": {},
   "source": [
    "### Creation of linear regression objects"
   ]
  },
  {
   "cell_type": "code",
   "execution_count": 4,
   "id": "ba2aad9b",
   "metadata": {},
   "outputs": [],
   "source": [
    "X = df.drop(['Activity S'], axis=1)\n",
    "y = df['Activity S']"
   ]
  },
  {
   "cell_type": "code",
   "execution_count": 5,
   "id": "ccbe6845",
   "metadata": {},
   "outputs": [],
   "source": [
    "#Inicialaize a list to store beta values for each linear regression model\n",
    "linear_coef = []\n",
    "\n",
    "#Loop over all the predictors\n",
    "#In each loop \"i\" holds the name of the predictor\n",
    "for i in X:\n",
    "\n",
    "    x = df[[i]]\n",
    "\n",
    "    linreg = LinearRegression()\n",
    "\n",
    "    #Fit the model\n",
    "    linreg.fit(x,y)\n",
    "\n",
    "    #Add the coeficient value to the list\n",
    "    linear_coef.append(linreg.coef_)"
   ]
  },
  {
   "cell_type": "code",
   "execution_count": 6,
   "id": "793a40de",
   "metadata": {},
   "outputs": [],
   "source": [
    "#Perform multi-linear regression with all predictors\n",
    "multi_linear = LinearRegression()\n",
    "\n",
    "#Fit multilinear regression model on all features of the entire data\n",
    "multi_linear.fit(X, y)\n",
    "\n",
    "#Get the coeficient of multi_linear model\n",
    "multi_coef = multi_linear.coef_"
   ]
  },
  {
   "cell_type": "markdown",
   "id": "8aae2106",
   "metadata": {},
   "source": [
    "### Printing the individual $\\beta$ values"
   ]
  },
  {
   "cell_type": "code",
   "execution_count": 14,
   "id": "f1638299",
   "metadata": {},
   "outputs": [
    {
     "name": "stdout",
     "output_type": "stream",
     "text": [
      "Print by simple (one variable) linear regression model for each variable\n",
      "Value of beta1 (Femoral Neck)= 1518.56\n",
      "Value of beta2 (%Fat)= -2.66\n",
      "Value of beta3 (Weight kg)= -7.35\n",
      "Value of beta4 (Activity)= 1.00\n",
      "Value of beta5 (%Fat S)= -2.66\n",
      "Value of beta6 (Weight S)= -7.35\n"
     ]
    }
   ],
   "source": [
    "print('Print by simple (one variable) linear regression model for each variable')\n",
    "predictors = X.columns\n",
    "for i in range(6):\n",
    "    print(f'Value of beta{i+1} ({predictors[i]})= {linear_coef[i][0]:.2f}')"
   ]
  },
  {
   "cell_type": "code",
   "execution_count": 15,
   "id": "75490ae4",
   "metadata": {},
   "outputs": [
    {
     "name": "stdout",
     "output_type": "stream",
     "text": [
      "By multi_linear regression model on all variables\n",
      "Value of beta1 (Femoral Neck) = -0.0\n",
      "Value of beta2 (%Fat) = 1.96\n",
      "Value of beta3 (Weight kg) = 8.36\n",
      "Value of beta4 (Activity) = 1.0\n",
      "Value of beta5 (%Fat S) = -1.96\n",
      "Value of beta6 (Weight S) = -8.36\n"
     ]
    }
   ],
   "source": [
    "#Helper to compare with multi_linear regression models\n",
    "\n",
    "print('By multi_linear regression model on all variables')\n",
    "for i in range(6):\n",
    "    print(f'Value of beta{i+1} ({predictors[i]}) = {round(multi_coef[i],2)}')"
   ]
  },
  {
   "cell_type": "code",
   "execution_count": 18,
   "id": "80f3bd6c",
   "metadata": {},
   "outputs": [
    {
     "data": {
      "text/plain": [
       "<function matplotlib.pyplot.show(close=None, block=None)>"
      ]
     },
     "execution_count": 18,
     "metadata": {},
     "output_type": "execute_result"
    },
    {
     "data": {
      "image/png": "[encoded data removed]",
      "text/plain": [
       "<Figure size 640x480 with 2 Axes>"
      ]
     },
     "metadata": {},
     "output_type": "display_data"
    }
   ],
   "source": [
    "#Helper code to visualize the heatmap of the covariace matrix\n",
    "corrMatrix = X.corr()\n",
    "sns.heatmap(corrMatrix, annot=True, cmap='coolwarm')\n",
    "plt.show"
   ]
  },
  {
   "cell_type": "markdown",
   "id": "94f0e19b",
   "metadata": {},
   "source": [
    "### Correlation Analysis\n",
    "\n",
    "Correlation interpretation:\n",
    "- Strong correlation: > 0.7 or < -0.7\n",
    "- Moderate correlation: 0.4 to 0.7 or -0.4 to -0.7\n",
    "- Weak correlation: < 0.4 or > -0.4\n",
    "\n",
    "We observe strong correlations between:\n",
    "1. %Fat and Weight kg\n",
    "2. %Fat and %Fat S (perfect correlation)\n",
    "3. Weight kg and Weight S (perfect correlation)\n",
    "\n",
    "This indicates multicollinearity between these variables, which explains the differences in β coefficients when models are fitted individually vs jointly."
   ]
  },
  {
   "cell_type": "markdown",
   "id": "7fb89579",
   "metadata": {},
   "source": [
    "### Correlation Analysis Conclusions\n",
    "\n",
    "1. Perfect correlations (1.0):\n",
    "   - Between %Fat and %Fat S\n",
    "   - Between Weight kg and Weight S\n",
    "   This suggests these variables are practically the same measure.\n",
    "\n",
    "2. Strong correlations (>0.7):\n",
    "   - Between %Fat and Weight kg/Weight S (~0.83)\n",
    "   Indicates a strong relationship between fat percentage and weight.\n",
    "\n",
    "3. Moderate correlations (0.4-0.7):\n",
    "   - Femoral Neck with Weight kg/Weight S (~0.66)\n",
    "   - Femoral Neck with %Fat (~0.47)\n",
    "\n",
    "4. Weak correlations (<0.4):\n",
    "   - Activity with all other variables\n",
    "   This suggests that activity is more independent.\n",
    "\n",
    "This correlation structure explains why β coefficients change significantly between simple and multiple models."
   ]
  },
  {
   "cell_type": "markdown",
   "id": "777c870e",
   "metadata": {},
   "source": [
    "### Interpretation of Beta (β) Coefficients in Simple Regression\n",
    "\n",
    "Each beta represents the regression coefficient for each independent variable when performing simple regression (one variable at a time):\n",
    "\n",
    "1. β1 = 1518.56 (Femoral Neck):\n",
    "   - For each unit increase in Femoral Neck, Activity S increases by 1518.56 units\n",
    "   - This high value suggests a strong influence of bone density on activity\n",
    "\n",
    "2. β2 = -2.66 (%Fat):\n",
    "   - For each unit increase in fat percentage, Activity S decreases by 2.66 units\n",
    "   - Indicates a negative relationship between body fat and activity\n",
    "\n",
    "3. β3 = -7.35 (Weight kg):\n",
    "   - For each kg increase in weight, Activity S decreases by 7.35 units\n",
    "   - Shows a negative relationship between weight and activity\n",
    "\n",
    "4. β4 = 1.00 (Activity):\n",
    "   - 1:1 relationship with Activity S\n",
    "   - This coefficient suggests this variable is the same activity measure\n",
    "\n",
    "5. β5 = -2.66 (%Fat S):\n",
    "   - Identical to β2 due to perfect collinearity with %Fat\n",
    "   - Confirms that %Fat and %Fat S are the same variable\n",
    "\n",
    "6. β6 = -7.35 (Weight S):\n",
    "   - Identical to β3 due to perfect collinearity with Weight kg\n",
    "   - Confirms that Weight kg and Weight S are the same variable\n",
    "\n",
    "### Important observations:\n",
    "1. The identical values of β2/β5 and β3/β6 confirm perfect collinearity\n",
    "2. The magnitude of β1 suggests that Femoral Neck could be an important predictor\n",
    "3. The value of β4=1.00 indicates that Activity and Activity S are equivalent measures\n",
    "4. The negative signs in β2, β3, β5, and β6 suggest that both weight and body fat are inversely related to activity"
   ]
  }
 ],
 "metadata": {
  "kernelspec": {
   "display_name": "venv",
   "language": "python",
   "name": "python3"
  },
  "language_info": {
   "codemirror_mode": {
    "name": "ipython",
    "version": 3
   },
   "file_extension": ".py",
   "mimetype": "text/x-python",
   "name": "python",
   "nbconvert_exporter": "python",
   "pygments_lexer": "ipython3",
   "version": "3.13.3"
  }
 },
 "nbformat": 4,
 "nbformat_minor": 5
}
