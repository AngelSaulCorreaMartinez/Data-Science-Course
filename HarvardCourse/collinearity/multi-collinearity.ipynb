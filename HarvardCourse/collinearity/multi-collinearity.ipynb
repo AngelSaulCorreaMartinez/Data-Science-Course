{
 "cells": [
  {
   "cell_type": "markdown",
   "id": "52a464b9",
   "metadata": {},
   "source": [
    "# Multi-collinearity vs Model Predictions"
   ]
  },
  {
   "cell_type": "code",
   "execution_count": 4,
   "id": "22910a90",
   "metadata": {},
   "outputs": [],
   "source": [
    "import pandas as pd\n",
    "from sklearn.linear_model import LinearRegression"
   ]
  },
  {
   "cell_type": "code",
   "execution_count": 7,
   "id": "094f1422",
   "metadata": {},
   "outputs": [],
   "source": [
    "#Read file\n",
    "df = pd.read_csv('../data_sets/MulticollinearityExample.csv')\n",
    "#Delet NaN\n",
    "df = df.dropna()"
   ]
  },
  {
   "cell_type": "code",
   "execution_count": 8,
   "id": "02f0e287",
   "metadata": {},
   "outputs": [
    {
     "data": {
      "text/html": [
       "<div>\n",
       "<style scoped>\n",
       "    .dataframe tbody tr th:only-of-type {\n",
       "        vertical-align: middle;\n",
       "    }\n",
       "\n",
       "    .dataframe tbody tr th {\n",
       "        vertical-align: top;\n",
       "    }\n",
       "\n",
       "    .dataframe thead th {\n",
       "        text-align: right;\n",
       "    }\n",
       "</style>\n",
       "<table border=\"1\" class=\"dataframe\">\n",
       "  <thead>\n",
       "    <tr style=\"text-align: right;\">\n",
       "      <th></th>\n",
       "      <th>Femoral Neck</th>\n",
       "      <th>%Fat</th>\n",
       "      <th>Weight kg</th>\n",
       "      <th>Activity</th>\n",
       "      <th>%Fat S</th>\n",
       "      <th>Weight S</th>\n",
       "      <th>Activity S</th>\n",
       "    </tr>\n",
       "  </thead>\n",
       "  <tbody>\n",
       "    <tr>\n",
       "      <th>1</th>\n",
       "      <td>0.888</td>\n",
       "      <td>29.3</td>\n",
       "      <td>61.801964</td>\n",
       "      <td>2773.54</td>\n",
       "      <td>0.734783</td>\n",
       "      <td>7.873772</td>\n",
       "      <td>211.550435</td>\n",
       "    </tr>\n",
       "    <tr>\n",
       "      <th>2</th>\n",
       "      <td>0.933</td>\n",
       "      <td>37.7</td>\n",
       "      <td>93.440034</td>\n",
       "      <td>1738.97</td>\n",
       "      <td>9.134783</td>\n",
       "      <td>39.511842</td>\n",
       "      <td>-823.019565</td>\n",
       "    </tr>\n",
       "    <tr>\n",
       "      <th>3</th>\n",
       "      <td>0.757</td>\n",
       "      <td>32.8</td>\n",
       "      <td>59.874197</td>\n",
       "      <td>1665.29</td>\n",
       "      <td>4.234783</td>\n",
       "      <td>5.946005</td>\n",
       "      <td>-896.699565</td>\n",
       "    </tr>\n",
       "    <tr>\n",
       "      <th>4</th>\n",
       "      <td>1.031</td>\n",
       "      <td>24.6</td>\n",
       "      <td>50.348756</td>\n",
       "      <td>3982.95</td>\n",
       "      <td>-3.965217</td>\n",
       "      <td>-3.579436</td>\n",
       "      <td>1420.960435</td>\n",
       "    </tr>\n",
       "    <tr>\n",
       "      <th>5</th>\n",
       "      <td>0.883</td>\n",
       "      <td>26.5</td>\n",
       "      <td>57.606235</td>\n",
       "      <td>2985.74</td>\n",
       "      <td>-2.065217</td>\n",
       "      <td>3.678043</td>\n",
       "      <td>423.750435</td>\n",
       "    </tr>\n",
       "  </tbody>\n",
       "</table>\n",
       "</div>"
      ],
      "text/plain": [
       "   Femoral Neck  %Fat  Weight kg  Activity    %Fat S   Weight S   Activity S\n",
       "1         0.888  29.3  61.801964   2773.54  0.734783   7.873772   211.550435\n",
       "2         0.933  37.7  93.440034   1738.97  9.134783  39.511842  -823.019565\n",
       "3         0.757  32.8  59.874197   1665.29  4.234783   5.946005  -896.699565\n",
       "4         1.031  24.6  50.348756   3982.95 -3.965217  -3.579436  1420.960435\n",
       "5         0.883  26.5  57.606235   2985.74 -2.065217   3.678043   423.750435"
      ]
     },
     "execution_count": 8,
     "metadata": {},
     "output_type": "execute_result"
    }
   ],
   "source": [
    "df.head()"
   ]
  },
  {
   "cell_type": "markdown",
   "id": "f440c527",
   "metadata": {},
   "source": [
    "### Creation of linear regression objects"
   ]
  },
  {
   "cell_type": "code",
   "execution_count": 9,
   "id": "ba2aad9b",
   "metadata": {},
   "outputs": [],
   "source": [
    "X = df.drop(['Activity S'], axis=1)\n",
    "y = df['Activity S']"
   ]
  },
  {
   "cell_type": "code",
   "execution_count": 10,
   "id": "ccbe6845",
   "metadata": {},
   "outputs": [],
   "source": [
    "#Inicialaize a list to store beta values for each linear regression model\n",
    "linear_coef = []\n",
    "\n",
    "#Loop over all the predictors\n",
    "#In each loop \"i\" holds the name of the predictor\n",
    "for i in X:\n",
    "\n",
    "    x = df[[i]]\n",
    "\n",
    "    linreg = LinearRegression()\n",
    "\n",
    "    #Fit the model\n",
    "    linreg.fit(x,y)\n",
    "\n",
    "    #Add the coeficient value to the list\n",
    "    linear_coef.append(linreg.coef_)"
   ]
  },
  {
   "cell_type": "code",
   "execution_count": 11,
   "id": "793a40de",
   "metadata": {},
   "outputs": [],
   "source": [
    "#Perform multi-linear regression with all predictors\n",
    "multi_linear = LinearRegression()\n",
    "\n",
    "#Fit multilinear regression model on all features of the entire data\n",
    "multi_linear.fit(X, y)\n",
    "\n",
    "#Get the coeficient of multi_linear model\n",
    "multi_coef = multi_linear.coef_"
   ]
  },
  {
   "cell_type": "markdown",
   "id": "8aae2106",
   "metadata": {},
   "source": [
    "### Printing the individual $\\beta$ values"
   ]
  },
  {
   "cell_type": "code",
   "execution_count": 12,
   "id": "f1638299",
   "metadata": {},
   "outputs": [
    {
     "name": "stdout",
     "output_type": "stream",
     "text": [
      "Print by simple (one variable) linear regression model for each variable\n",
      "Value of beta1 = 1518.56\n",
      "Value of beta2 = -2.66\n",
      "Value of beta3 = -7.35\n",
      "Value of beta4 = 1.00\n",
      "Value of beta5 = -2.66\n",
      "Value of beta6 = -7.35\n"
     ]
    }
   ],
   "source": [
    "print('Print by simple (one variable) linear regression model for each variable')\n",
    "\n",
    "for i in range(6):\n",
    "    print(f'Value of beta{i+1} = {linear_coef[i][0]:.2f}')"
   ]
  },
  {
   "cell_type": "code",
   "execution_count": 15,
   "id": "75490ae4",
   "metadata": {},
   "outputs": [
    {
     "name": "stdout",
     "output_type": "stream",
     "text": [
      "By multi_linear regression model on all variables\n",
      "Value of beta1 = -0.0\n",
      "Value of beta2 = 1.96\n",
      "Value of beta3 = 8.36\n",
      "Value of beta4 = 1.0\n",
      "Value of beta5 = -1.96\n",
      "Value of beta6 = -8.36\n"
     ]
    }
   ],
   "source": [
    "#Helper to compare with multi_linear regression models\n",
    "\n",
    "print('By multi_linear regression model on all variables')\n",
    "for i in range(6):\n",
    "    print(f'Value of beta{i+1} = {round(multi_coef[i],2)}')"
   ]
  }
 ],
 "metadata": {
  "kernelspec": {
   "display_name": "venv",
   "language": "python",
   "name": "python3"
  },
  "language_info": {
   "codemirror_mode": {
    "name": "ipython",
    "version": 3
   },
   "file_extension": ".py",
   "mimetype": "text/x-python",
   "name": "python",
   "nbconvert_exporter": "python",
   "pygments_lexer": "ipython3",
   "version": "3.13.1"
  }
 },
 "nbformat": 4,
 "nbformat_minor": 5
}
