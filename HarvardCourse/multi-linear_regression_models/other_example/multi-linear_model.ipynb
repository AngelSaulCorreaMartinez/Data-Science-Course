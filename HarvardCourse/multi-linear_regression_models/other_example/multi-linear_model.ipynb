{
 "cells": [
  {
   "cell_type": "code",
   "execution_count": 3,
   "id": "503339d2",
   "metadata": {},
   "outputs": [],
   "source": [
    "import pandas as pd\n",
    "from sklearn.model_selection import train_test_split\n",
    "from sklearn.linear_model import LinearRegression\n",
    "from sklearn.metrics import mean_squared_error"
   ]
  },
  {
   "cell_type": "code",
   "execution_count": 4,
   "id": "3e3da908",
   "metadata": {},
   "outputs": [
    {
     "data": {
      "text/html": [
       "<div>\n",
       "<style scoped>\n",
       "    .dataframe tbody tr th:only-of-type {\n",
       "        vertical-align: middle;\n",
       "    }\n",
       "\n",
       "    .dataframe tbody tr th {\n",
       "        vertical-align: top;\n",
       "    }\n",
       "\n",
       "    .dataframe thead th {\n",
       "        text-align: right;\n",
       "    }\n",
       "</style>\n",
       "<table border=\"1\" class=\"dataframe\">\n",
       "  <thead>\n",
       "    <tr style=\"text-align: right;\">\n",
       "      <th></th>\n",
       "      <th>TV</th>\n",
       "      <th>Radio</th>\n",
       "      <th>Newspaper</th>\n",
       "      <th>Sales</th>\n",
       "    </tr>\n",
       "  </thead>\n",
       "  <tbody>\n",
       "    <tr>\n",
       "      <th>0</th>\n",
       "      <td>230.1</td>\n",
       "      <td>37.8</td>\n",
       "      <td>69.2</td>\n",
       "      <td>22.1</td>\n",
       "    </tr>\n",
       "    <tr>\n",
       "      <th>1</th>\n",
       "      <td>44.5</td>\n",
       "      <td>39.3</td>\n",
       "      <td>45.1</td>\n",
       "      <td>10.4</td>\n",
       "    </tr>\n",
       "  </tbody>\n",
       "</table>\n",
       "</div>"
      ],
      "text/plain": [
       "      TV  Radio  Newspaper  Sales\n",
       "0  230.1   37.8       69.2   22.1\n",
       "1   44.5   39.3       45.1   10.4"
      ]
     },
     "execution_count": 4,
     "metadata": {},
     "output_type": "execute_result"
    }
   ],
   "source": [
    "#Clean and read the data\n",
    "df = pd.read_csv('../../data_sets/Advertising.csv')\n",
    "df = df.drop(columns=['Unnamed: 0'])\n",
    "df.head(2)"
   ]
  },
  {
   "cell_type": "code",
   "execution_count": 5,
   "id": "2a3a07b0",
   "metadata": {},
   "outputs": [],
   "source": [
    "#Inicialize MSE list\n",
    "mse_list = []\n",
    "\n",
    "#List of lists of all unique predictor combinations\n",
    "cols = [['TV'], ['Radio'], ['Newspaper'], \n",
    "        ['TV', 'Radio'], ['TV', 'Newspaper'], \n",
    "        ['Radio', 'Newspaper'], \n",
    "        ['TV', 'Radio', 'Newspaper']]\n",
    "\n",
    "#Loop over all the cols\n",
    "for i in cols:\n",
    "    X = df[i]\n",
    "    y = df['Sales']\n",
    "\n",
    "    #Split the data into train and test\n",
    "    X_train, X_test, y_train, y_test = train_test_split(X, y, test_size=0.20, random_state=0)\n",
    "\n",
    "    #Inicialice the linar regression model\n",
    "    lreg = LinearRegression()\n",
    "\n",
    "    #Find the model\n",
    "    lreg.fit(X_train, y_train)\n",
    "\n",
    "    #Predict the test set\n",
    "    y_pred = lreg.predict(X_test)\n",
    "\n",
    "    #Append the MSE to the list\n",
    "    mse_list.append(mean_squared_error(y_test, y_pred))"
   ]
  },
  {
   "cell_type": "code",
   "execution_count": 6,
   "id": "a6f4a2b2",
   "metadata": {},
   "outputs": [
    {
     "name": "stdout",
     "output_type": "stream",
     "text": [
      "MSE FOR ['TV'] : 10.186181934530214\n",
      "MSE FOR ['Radio'] : 24.23723303713214\n",
      "MSE FOR ['Newspaper'] : 32.13714634300907\n",
      "MSE FOR ['TV', 'Radio'] : 4.391429763581878\n",
      "MSE FOR ['TV', 'Newspaper'] : 8.687682675690585\n",
      "MSE FOR ['Radio', 'Newspaper'] : 24.78339548293816\n",
      "MSE FOR ['TV', 'Radio', 'Newspaper'] : 4.40211829144968\n"
     ]
    }
   ],
   "source": [
    "#Display the MSE for each predictor combination\n",
    "for i in range(len(cols)):\n",
    "    print(f'MSE FOR {cols[i]} : {mse_list[i]}')"
   ]
  }
 ],
 "metadata": {
  "kernelspec": {
   "display_name": "venv",
   "language": "python",
   "name": "python3"
  },
  "language_info": {
   "codemirror_mode": {
    "name": "ipython",
    "version": 3
   },
   "file_extension": ".py",
   "mimetype": "text/x-python",
   "name": "python",
   "nbconvert_exporter": "python",
   "pygments_lexer": "ipython3",
   "version": "3.13.3"
  }
 },
 "nbformat": 4,
 "nbformat_minor": 5
}
