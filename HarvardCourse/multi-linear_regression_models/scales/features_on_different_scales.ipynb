{
 "cells": [
  {
   "cell_type": "code",
   "execution_count": 1,
   "id": "5890e304",
   "metadata": {},
   "outputs": [],
   "source": [
    "import pandas as pd\n",
    "import matplotlib.pyplot as plt\n",
    "from sklearn.linear_model import LinearRegression"
   ]
  },
  {
   "cell_type": "markdown",
   "id": "19ff5b26",
   "metadata": {},
   "source": [
    "## Coefficient Interpretation on Different Scales\n",
    "In this notebook we'll interpret a regression model's coefficients to understand the relationship between the predictors and the response. We'll be using the now familiar advertising data."
   ]
  },
  {
   "cell_type": "code",
   "execution_count": 2,
   "id": "cab08605",
   "metadata": {},
   "outputs": [
    {
     "data": {
      "text/html": [
       "<div>\n",
       "<style scoped>\n",
       "    .dataframe tbody tr th:only-of-type {\n",
       "        vertical-align: middle;\n",
       "    }\n",
       "\n",
       "    .dataframe tbody tr th {\n",
       "        vertical-align: top;\n",
       "    }\n",
       "\n",
       "    .dataframe thead th {\n",
       "        text-align: right;\n",
       "    }\n",
       "</style>\n",
       "<table border=\"1\" class=\"dataframe\">\n",
       "  <thead>\n",
       "    <tr style=\"text-align: right;\">\n",
       "      <th></th>\n",
       "      <th>TV</th>\n",
       "      <th>Radio</th>\n",
       "      <th>Newspaper</th>\n",
       "      <th>Sales</th>\n",
       "    </tr>\n",
       "  </thead>\n",
       "  <tbody>\n",
       "    <tr>\n",
       "      <th>1</th>\n",
       "      <td>230.1</td>\n",
       "      <td>37.8</td>\n",
       "      <td>69.2</td>\n",
       "      <td>22.1</td>\n",
       "    </tr>\n",
       "    <tr>\n",
       "      <th>2</th>\n",
       "      <td>44.5</td>\n",
       "      <td>39.3</td>\n",
       "      <td>45.1</td>\n",
       "      <td>10.4</td>\n",
       "    </tr>\n",
       "    <tr>\n",
       "      <th>3</th>\n",
       "      <td>17.2</td>\n",
       "      <td>45.9</td>\n",
       "      <td>69.3</td>\n",
       "      <td>9.3</td>\n",
       "    </tr>\n",
       "    <tr>\n",
       "      <th>4</th>\n",
       "      <td>151.5</td>\n",
       "      <td>41.3</td>\n",
       "      <td>58.5</td>\n",
       "      <td>18.5</td>\n",
       "    </tr>\n",
       "    <tr>\n",
       "      <th>5</th>\n",
       "      <td>180.8</td>\n",
       "      <td>10.8</td>\n",
       "      <td>58.4</td>\n",
       "      <td>12.9</td>\n",
       "    </tr>\n",
       "  </tbody>\n",
       "</table>\n",
       "</div>"
      ],
      "text/plain": [
       "      TV  Radio  Newspaper  Sales\n",
       "1  230.1   37.8       69.2   22.1\n",
       "2   44.5   39.3       45.1   10.4\n",
       "3   17.2   45.9       69.3    9.3\n",
       "4  151.5   41.3       58.5   18.5\n",
       "5  180.8   10.8       58.4   12.9"
      ]
     },
     "execution_count": 2,
     "metadata": {},
     "output_type": "execute_result"
    }
   ],
   "source": [
    "df = pd.read_csv('../../data_sets/Advertising.csv', index_col=0) #Taking the first columns as index\n",
    "df.head()"
   ]
  },
  {
   "cell_type": "markdown",
   "id": "21796b92",
   "metadata": {},
   "source": [
    "All values are in thousands of dollars.\n",
    "Again, we want to predict Sales from the various media advertising budgets.\n",
    "\n",
    "So next we'll create our predictor matrix, $X$ and response vector, \n",
    "$y$."
   ]
  },
  {
   "cell_type": "code",
   "execution_count": 3,
   "id": "55a9dfc9",
   "metadata": {},
   "outputs": [],
   "source": [
    "X = df.drop('Sales', axis=1)\n",
    "y = df.Sales.values"
   ]
  },
  {
   "cell_type": "code",
   "execution_count": 4,
   "id": "6a34a3a1",
   "metadata": {},
   "outputs": [],
   "source": [
    "lm = LinearRegression().fit(X, y)"
   ]
  },
  {
   "cell_type": "markdown",
   "id": "32892183",
   "metadata": {},
   "source": [
    "Now we inspect the predictor coefficient values derived from the fit.\\\n",
    "These are the $\\beta$ values that maximize our $R^2$ loss."
   ]
  },
  {
   "cell_type": "code",
   "execution_count": 5,
   "id": "dc6d9280",
   "metadata": {},
   "outputs": [
    {
     "name": "stdout",
     "output_type": "stream",
     "text": [
      "Model Coefficients\n",
      "       TV:  0.046\n",
      "    Radio:  0.189\n",
      "Newspaper: -0.001\n",
      "\n",
      "R^2: 0.8972\n"
     ]
    }
   ],
   "source": [
    "# you can learn more about Python format strings here:\n",
    "# https://docs.python.org/3/tutorial/inputoutput.html\n",
    "# https://docs.python.org/3/library/string.html#formatspec\n",
    "\n",
    "print(f'{\"Model Coefficients\":>9}') #Alinear a la derecha con un ancho de 9 caracteres\n",
    "for col, coef in zip(X.columns, lm.coef_): #zip() combina dos iterables en pares\n",
    "    print(f'{col:>9}: {coef:>6.3f}')\n",
    "print(f'\\nR^2: {lm.score(X,y):.4}')\n"
   ]
  },
  {
   "cell_type": "markdown",
   "id": "74e0954e",
   "metadata": {},
   "source": [
    "As mentioned above, the original units are in thousands of dollars. To make discussion a bit simplier we'll convert this to dollars by multipling our original DataFrame by 1000. This will also help illustrate a point about **feature scaling**."
   ]
  },
  {
   "cell_type": "code",
   "execution_count": 6,
   "id": "a1c1889e",
   "metadata": {},
   "outputs": [
    {
     "data": {
      "text/html": [
       "<div>\n",
       "<style scoped>\n",
       "    .dataframe tbody tr th:only-of-type {\n",
       "        vertical-align: middle;\n",
       "    }\n",
       "\n",
       "    .dataframe tbody tr th {\n",
       "        vertical-align: top;\n",
       "    }\n",
       "\n",
       "    .dataframe thead th {\n",
       "        text-align: right;\n",
       "    }\n",
       "</style>\n",
       "<table border=\"1\" class=\"dataframe\">\n",
       "  <thead>\n",
       "    <tr style=\"text-align: right;\">\n",
       "      <th></th>\n",
       "      <th>TV</th>\n",
       "      <th>Radio</th>\n",
       "      <th>Newspaper</th>\n",
       "      <th>Sales</th>\n",
       "    </tr>\n",
       "  </thead>\n",
       "  <tbody>\n",
       "    <tr>\n",
       "      <th>1</th>\n",
       "      <td>230100.0</td>\n",
       "      <td>37800.0</td>\n",
       "      <td>69200.0</td>\n",
       "      <td>22100.0</td>\n",
       "    </tr>\n",
       "    <tr>\n",
       "      <th>2</th>\n",
       "      <td>44500.0</td>\n",
       "      <td>39300.0</td>\n",
       "      <td>45100.0</td>\n",
       "      <td>10400.0</td>\n",
       "    </tr>\n",
       "    <tr>\n",
       "      <th>3</th>\n",
       "      <td>17200.0</td>\n",
       "      <td>45900.0</td>\n",
       "      <td>69300.0</td>\n",
       "      <td>9300.0</td>\n",
       "    </tr>\n",
       "    <tr>\n",
       "      <th>4</th>\n",
       "      <td>151500.0</td>\n",
       "      <td>41300.0</td>\n",
       "      <td>58500.0</td>\n",
       "      <td>18500.0</td>\n",
       "    </tr>\n",
       "    <tr>\n",
       "      <th>5</th>\n",
       "      <td>180800.0</td>\n",
       "      <td>10800.0</td>\n",
       "      <td>58400.0</td>\n",
       "      <td>12900.0</td>\n",
       "    </tr>\n",
       "  </tbody>\n",
       "</table>\n",
       "</div>"
      ],
      "text/plain": [
       "         TV    Radio  Newspaper    Sales\n",
       "1  230100.0  37800.0    69200.0  22100.0\n",
       "2   44500.0  39300.0    45100.0  10400.0\n",
       "3   17200.0  45900.0    69300.0   9300.0\n",
       "4  151500.0  41300.0    58500.0  18500.0\n",
       "5  180800.0  10800.0    58400.0  12900.0"
      ]
     },
     "execution_count": 6,
     "metadata": {},
     "output_type": "execute_result"
    }
   ],
   "source": [
    "df *= 1000\n",
    "df.head()"
   ]
  },
  {
   "cell_type": "markdown",
   "id": "87701cef",
   "metadata": {},
   "source": [
    "What happen to the coefficients of the model now that it's been fit on scaled up data? "
   ]
  },
  {
   "cell_type": "code",
   "execution_count": 7,
   "id": "b2361822",
   "metadata": {},
   "outputs": [
    {
     "name": "stdout",
     "output_type": "stream",
     "text": [
      "Model Coefficients\n",
      "       TV:  0.046\n",
      "    Radio:  0.189\n",
      "Newspaper: -0.001\n",
      "\n",
      "R^2: 0.8972\n"
     ]
    }
   ],
   "source": [
    "#Refit a new regression model on the scaled data\n",
    "\n",
    "X = df.drop('Sales', axis=1)\n",
    "y = df.Sales.values\n",
    "lm = LinearRegression().fit(X,y)\n",
    "\n",
    "print(f'{\"Model Coefficients\":>9}')\n",
    "for col, coef in zip(X.columns, lm.coef_):\n",
    "    print(f'{col:>9}: {coef:>6.3f}')\n",
    "print(f'\\nR^2: {lm.score(X,y):.4}')\n"
   ]
  },
  {
   "cell_type": "markdown",
   "id": "fb047c69",
   "metadata": {},
   "source": [
    "The coefficients and the loss are exactly the same! This is not a fluke. **Linear regession coeffients are invariant under scaling**. That's because we've scaled both the predictors *and* the response by the same amount.\n",
    "\n",
    "Think of it this way:\\\n",
    "If a \\$1,000 increase in the `TV` budget is associated with a $\\beta$ thousand dollar increase in `Sales`, then a \\$1 increase in `TV` will result in an observed $\\beta$ dollar increase in `Sales`."
   ]
  },
  {
   "cell_type": "markdown",
   "id": "f84bc6c4",
   "metadata": {},
   "source": [
    "#### Visual Interpretation\n",
    "\n",
    "Let's create a visualization to help us interpret our model's coeffients.\\\n",
    "We'll use a horizontal bar plot."
   ]
  },
  {
   "cell_type": "code",
   "execution_count": 8,
   "id": "a235e23e",
   "metadata": {},
   "outputs": [
    {
     "data": {
      "text/plain": [
       "Text(0.5, 1.0, 'Coefficients of Linear Model Predicting Sales\\n from Newspaper, Radio, and TV Advertising Budgets (in Dollars)')"
      ]
     },
     "execution_count": 8,
     "metadata": {},
     "output_type": "execute_result"
    },
    {
     "data": {
      "image/png": "[encoded data removed]",
      "text/plain": [
       "<Figure size 800x300 with 1 Axes>"
      ]
     },
     "metadata": {},
     "output_type": "display_data"
    }
   ],
   "source": [
    "plt.figure(figsize=(8,3))\n",
    "# Column names to be displayed on the y-axis\n",
    "cols = X.columns\n",
    "#Coefficient values for our fitted model (intercept isn't included)\n",
    "coefs = lm.coef_\n",
    "#Create de horizontal barplot\n",
    "plt.barh(cols, coefs)\n",
    "# dotted, semi-transparent, black vertical line at zero \n",
    "plt.axvline(0, c='k', ls='--', alpha=0.5)\n",
    "#Labeling axes\n",
    "plt.ylabel('Predictor')\n",
    "plt.xlabel('Coefficient values')\n",
    "plt.title('Coefficients of Linear Model Predicting Sales\\n from Newspaper, '\\\n",
    "            'Radio, and TV Advertising Budgets (in Dollars)')\n"
   ]
  },
  {
   "cell_type": "markdown",
   "id": "1260f866",
   "metadata": {},
   "source": [
    "**Q1**: Based on the plot above, advertising in which type of media has the largest effect on `Sales`?\n",
    "\n",
    "A. Newspaper\\\n",
    "**B. Radio**\\\n",
    "C. TV"
   ]
  },
  {
   "cell_type": "markdown",
   "id": "03471dda",
   "metadata": {},
   "source": [
    "**Q2**: If the newspaper advertising budget were higher, what difference might we expect to see in sales? \n",
    "\n",
    "A. There would be no change\\\n",
    "B. Sales would increase, but only slightly\\\n",
    "**C. Sales would decrease, but only slightly**\\"
   ]
  },
  {
   "cell_type": "markdown",
   "id": "0a33285c",
   "metadata": {},
   "source": [
    "What happens when our predictors are *not* all on the same scale?\\\n",
    "To find out, we'll change the units of the 3 budgets by converting them into different currencies. Use the following conversion rates for this exercise:"
   ]
  },
  {
   "cell_type": "markdown",
   "id": "0c861946",
   "metadata": {},
   "source": [
    "<div>\n",
    "    <div class='img' style='float:left;padding:1em'>\n",
    "        <img src='../../img/rupee_SL.png' style='height:px70;width:200px' alt='200 Sri Lankan Rupees = \\$1'>\n",
    "        <span style='clear:left;display:block'>200 Sri Lankan Rupee = \\$1</span>\n",
    "    </div>\n",
    "    <div class='img' style='float:left;padding:1em'>\n",
    "        <img src='../../img/won.png' style='height:px70;width:200px;float:up' alt='1,175 South Korean Won = \\$1'>\n",
    "        <span style='clear:left;display:block;align:center'>1,175 South Korean Won = \\$1</span>\n",
    "    </div>\n",
    "    <div class='img' style='float:left;padding:1em'>\n",
    "        <img src='../../img/cedi.png' style='height:px70;width:200px' alt='6 Chanaian Cedi = \\$1'>\n",
    "        <span style='clear:left;display:block;align:center'>6 Ghanaian Cedi = \\$1</span>\n",
    "    </div>\n",
    "</div>\n",
    "</div>\n",
    "<div style='content: \"\";clear: both;display:table;'>\n",
    "</div>"
   ]
  },
  {
   "cell_type": "code",
   "execution_count": 9,
   "id": "cfb0d0a0",
   "metadata": {},
   "outputs": [],
   "source": [
    "# create a new df to store the converted budgets\n",
    "X2 = pd.DataFrame()\n",
    "X2['TV (Rupee)'] = 200 * df['TV'] # convert to Sri Lankan Rupee\n",
    "X2['Radio (Won)'] = 1175 * df['Radio'] # convert to won\n",
    "X2['Newspaper (Cedi)'] = 6 * df['Newspaper']"
   ]
  },
  {
   "cell_type": "code",
   "execution_count": 10,
   "id": "4fbf7716",
   "metadata": {},
   "outputs": [
    {
     "data": {
      "text/html": [
       "<style>#sk-container-id-1 {\n",
       "  /* Definition of color scheme common for light and dark mode */\n",
       "  --sklearn-color-text: #000;\n",
       "  --sklearn-color-text-muted: #666;\n",
       "  --sklearn-color-line: gray;\n",
       "  /* Definition of color scheme for unfitted estimators */\n",
       "  --sklearn-color-unfitted-level-0: #fff5e6;\n",
       "  --sklearn-color-unfitted-level-1: #f6e4d2;\n",
       "  --sklearn-color-unfitted-level-2: #ffe0b3;\n",
       "  --sklearn-color-unfitted-level-3: chocolate;\n",
       "  /* Definition of color scheme for fitted estimators */\n",
       "  --sklearn-color-fitted-level-0: #f0f8ff;\n",
       "  --sklearn-color-fitted-level-1: #d4ebff;\n",
       "  --sklearn-color-fitted-level-2: #b3dbfd;\n",
       "  --sklearn-color-fitted-level-3: cornflowerblue;\n",
       "\n",
       "  /* Specific color for light theme */\n",
       "  --sklearn-color-text-on-default-background: var(--sg-text-color, var(--theme-code-foreground, var(--jp-content-font-color1, black)));\n",
       "  --sklearn-color-background: var(--sg-background-color, var(--theme-background, var(--jp-layout-color0, white)));\n",
       "  --sklearn-color-border-box: var(--sg-text-color, var(--theme-code-foreground, var(--jp-content-font-color1, black)));\n",
       "  --sklearn-color-icon: #696969;\n",
       "\n",
       "  @media (prefers-color-scheme: dark) {\n",
       "    /* Redefinition of color scheme for dark theme */\n",
       "    --sklearn-color-text-on-default-background: var(--sg-text-color, var(--theme-code-foreground, var(--jp-content-font-color1, white)));\n",
       "    --sklearn-color-background: var(--sg-background-color, var(--theme-background, var(--jp-layout-color0, #111)));\n",
       "    --sklearn-color-border-box: var(--sg-text-color, var(--theme-code-foreground, var(--jp-content-font-color1, white)));\n",
       "    --sklearn-color-icon: #878787;\n",
       "  }\n",
       "}\n",
       "\n",
       "#sk-container-id-1 {\n",
       "  color: var(--sklearn-color-text);\n",
       "}\n",
       "\n",
       "#sk-container-id-1 pre {\n",
       "  padding: 0;\n",
       "}\n",
       "\n",
       "#sk-container-id-1 input.sk-hidden--visually {\n",
       "  border: 0;\n",
       "  clip: rect(1px 1px 1px 1px);\n",
       "  clip: rect(1px, 1px, 1px, 1px);\n",
       "  height: 1px;\n",
       "  margin: -1px;\n",
       "  overflow: hidden;\n",
       "  padding: 0;\n",
       "  position: absolute;\n",
       "  width: 1px;\n",
       "}\n",
       "\n",
       "#sk-container-id-1 div.sk-dashed-wrapped {\n",
       "  border: 1px dashed var(--sklearn-color-line);\n",
       "  margin: 0 0.4em 0.5em 0.4em;\n",
       "  box-sizing: border-box;\n",
       "  padding-bottom: 0.4em;\n",
       "  background-color: var(--sklearn-color-background);\n",
       "}\n",
       "\n",
       "#sk-container-id-1 div.sk-container {\n",
       "  /* jupyter's `normalize.less` sets `[hidden] { display: none; }`\n",
       "     but bootstrap.min.css set `[hidden] { display: none !important; }`\n",
       "     so we also need the `!important` here to be able to override the\n",
       "     default hidden behavior on the sphinx rendered scikit-learn.org.\n",
       "     See: https://github.com/scikit-learn/scikit-learn/issues/21755 */\n",
       "  display: inline-block !important;\n",
       "  position: relative;\n",
       "}\n",
       "\n",
       "#sk-container-id-1 div.sk-text-repr-fallback {\n",
       "  display: none;\n",
       "}\n",
       "\n",
       "div.sk-parallel-item,\n",
       "div.sk-serial,\n",
       "div.sk-item {\n",
       "  /* draw centered vertical line to link estimators */\n",
       "  background-image: linear-gradient(var(--sklearn-color-text-on-default-background), var(--sklearn-color-text-on-default-background));\n",
       "  background-size: 2px 100%;\n",
       "  background-repeat: no-repeat;\n",
       "  background-position: center center;\n",
       "}\n",
       "\n",
       "/* Parallel-specific style estimator block */\n",
       "\n",
       "#sk-container-id-1 div.sk-parallel-item::after {\n",
       "  content: \"\";\n",
       "  width: 100%;\n",
       "  border-bottom: 2px solid var(--sklearn-color-text-on-default-background);\n",
       "  flex-grow: 1;\n",
       "}\n",
       "\n",
       "#sk-container-id-1 div.sk-parallel {\n",
       "  display: flex;\n",
       "  align-items: stretch;\n",
       "  justify-content: center;\n",
       "  background-color: var(--sklearn-color-background);\n",
       "  position: relative;\n",
       "}\n",
       "\n",
       "#sk-container-id-1 div.sk-parallel-item {\n",
       "  display: flex;\n",
       "  flex-direction: column;\n",
       "}\n",
       "\n",
       "#sk-container-id-1 div.sk-parallel-item:first-child::after {\n",
       "  align-self: flex-end;\n",
       "  width: 50%;\n",
       "}\n",
       "\n",
       "#sk-container-id-1 div.sk-parallel-item:last-child::after {\n",
       "  align-self: flex-start;\n",
       "  width: 50%;\n",
       "}\n",
       "\n",
       "#sk-container-id-1 div.sk-parallel-item:only-child::after {\n",
       "  width: 0;\n",
       "}\n",
       "\n",
       "/* Serial-specific style estimator block */\n",
       "\n",
       "#sk-container-id-1 div.sk-serial {\n",
       "  display: flex;\n",
       "  flex-direction: column;\n",
       "  align-items: center;\n",
       "  background-color: var(--sklearn-color-background);\n",
       "  padding-right: 1em;\n",
       "  padding-left: 1em;\n",
       "}\n",
       "\n",
       "\n",
       "/* Toggleable style: style used for estimator/Pipeline/ColumnTransformer box that is\n",
       "clickable and can be expanded/collapsed.\n",
       "- Pipeline and ColumnTransformer use this feature and define the default style\n",
       "- Estimators will overwrite some part of the style using the `sk-estimator` class\n",
       "*/\n",
       "\n",
       "/* Pipeline and ColumnTransformer style (default) */\n",
       "\n",
       "#sk-container-id-1 div.sk-toggleable {\n",
       "  /* Default theme specific background. It is overwritten whether we have a\n",
       "  specific estimator or a Pipeline/ColumnTransformer */\n",
       "  background-color: var(--sklearn-color-background);\n",
       "}\n",
       "\n",
       "/* Toggleable label */\n",
       "#sk-container-id-1 label.sk-toggleable__label {\n",
       "  cursor: pointer;\n",
       "  display: flex;\n",
       "  width: 100%;\n",
       "  margin-bottom: 0;\n",
       "  padding: 0.5em;\n",
       "  box-sizing: border-box;\n",
       "  text-align: center;\n",
       "  align-items: start;\n",
       "  justify-content: space-between;\n",
       "  gap: 0.5em;\n",
       "}\n",
       "\n",
       "#sk-container-id-1 label.sk-toggleable__label .caption {\n",
       "  font-size: 0.6rem;\n",
       "  font-weight: lighter;\n",
       "  color: var(--sklearn-color-text-muted);\n",
       "}\n",
       "\n",
       "#sk-container-id-1 label.sk-toggleable__label-arrow:before {\n",
       "  /* Arrow on the left of the label */\n",
       "  content: \"▸\";\n",
       "  float: left;\n",
       "  margin-right: 0.25em;\n",
       "  color: var(--sklearn-color-icon);\n",
       "}\n",
       "\n",
       "#sk-container-id-1 label.sk-toggleable__label-arrow:hover:before {\n",
       "  color: var(--sklearn-color-text);\n",
       "}\n",
       "\n",
       "/* Toggleable content - dropdown */\n",
       "\n",
       "#sk-container-id-1 div.sk-toggleable__content {\n",
       "  max-height: 0;\n",
       "  max-width: 0;\n",
       "  overflow: hidden;\n",
       "  text-align: left;\n",
       "  /* unfitted */\n",
       "  background-color: var(--sklearn-color-unfitted-level-0);\n",
       "}\n",
       "\n",
       "#sk-container-id-1 div.sk-toggleable__content.fitted {\n",
       "  /* fitted */\n",
       "  background-color: var(--sklearn-color-fitted-level-0);\n",
       "}\n",
       "\n",
       "#sk-container-id-1 div.sk-toggleable__content pre {\n",
       "  margin: 0.2em;\n",
       "  border-radius: 0.25em;\n",
       "  color: var(--sklearn-color-text);\n",
       "  /* unfitted */\n",
       "  background-color: var(--sklearn-color-unfitted-level-0);\n",
       "}\n",
       "\n",
       "#sk-container-id-1 div.sk-toggleable__content.fitted pre {\n",
       "  /* unfitted */\n",
       "  background-color: var(--sklearn-color-fitted-level-0);\n",
       "}\n",
       "\n",
       "#sk-container-id-1 input.sk-toggleable__control:checked~div.sk-toggleable__content {\n",
       "  /* Expand drop-down */\n",
       "  max-height: 200px;\n",
       "  max-width: 100%;\n",
       "  overflow: auto;\n",
       "}\n",
       "\n",
       "#sk-container-id-1 input.sk-toggleable__control:checked~label.sk-toggleable__label-arrow:before {\n",
       "  content: \"▾\";\n",
       "}\n",
       "\n",
       "/* Pipeline/ColumnTransformer-specific style */\n",
       "\n",
       "#sk-container-id-1 div.sk-label input.sk-toggleable__control:checked~label.sk-toggleable__label {\n",
       "  color: var(--sklearn-color-text);\n",
       "  background-color: var(--sklearn-color-unfitted-level-2);\n",
       "}\n",
       "\n",
       "#sk-container-id-1 div.sk-label.fitted input.sk-toggleable__control:checked~label.sk-toggleable__label {\n",
       "  background-color: var(--sklearn-color-fitted-level-2);\n",
       "}\n",
       "\n",
       "/* Estimator-specific style */\n",
       "\n",
       "/* Colorize estimator box */\n",
       "#sk-container-id-1 div.sk-estimator input.sk-toggleable__control:checked~label.sk-toggleable__label {\n",
       "  /* unfitted */\n",
       "  background-color: var(--sklearn-color-unfitted-level-2);\n",
       "}\n",
       "\n",
       "#sk-container-id-1 div.sk-estimator.fitted input.sk-toggleable__control:checked~label.sk-toggleable__label {\n",
       "  /* fitted */\n",
       "  background-color: var(--sklearn-color-fitted-level-2);\n",
       "}\n",
       "\n",
       "#sk-container-id-1 div.sk-label label.sk-toggleable__label,\n",
       "#sk-container-id-1 div.sk-label label {\n",
       "  /* The background is the default theme color */\n",
       "  color: var(--sklearn-color-text-on-default-background);\n",
       "}\n",
       "\n",
       "/* On hover, darken the color of the background */\n",
       "#sk-container-id-1 div.sk-label:hover label.sk-toggleable__label {\n",
       "  color: var(--sklearn-color-text);\n",
       "  background-color: var(--sklearn-color-unfitted-level-2);\n",
       "}\n",
       "\n",
       "/* Label box, darken color on hover, fitted */\n",
       "#sk-container-id-1 div.sk-label.fitted:hover label.sk-toggleable__label.fitted {\n",
       "  color: var(--sklearn-color-text);\n",
       "  background-color: var(--sklearn-color-fitted-level-2);\n",
       "}\n",
       "\n",
       "/* Estimator label */\n",
       "\n",
       "#sk-container-id-1 div.sk-label label {\n",
       "  font-family: monospace;\n",
       "  font-weight: bold;\n",
       "  display: inline-block;\n",
       "  line-height: 1.2em;\n",
       "}\n",
       "\n",
       "#sk-container-id-1 div.sk-label-container {\n",
       "  text-align: center;\n",
       "}\n",
       "\n",
       "/* Estimator-specific */\n",
       "#sk-container-id-1 div.sk-estimator {\n",
       "  font-family: monospace;\n",
       "  border: 1px dotted var(--sklearn-color-border-box);\n",
       "  border-radius: 0.25em;\n",
       "  box-sizing: border-box;\n",
       "  margin-bottom: 0.5em;\n",
       "  /* unfitted */\n",
       "  background-color: var(--sklearn-color-unfitted-level-0);\n",
       "}\n",
       "\n",
       "#sk-container-id-1 div.sk-estimator.fitted {\n",
       "  /* fitted */\n",
       "  background-color: var(--sklearn-color-fitted-level-0);\n",
       "}\n",
       "\n",
       "/* on hover */\n",
       "#sk-container-id-1 div.sk-estimator:hover {\n",
       "  /* unfitted */\n",
       "  background-color: var(--sklearn-color-unfitted-level-2);\n",
       "}\n",
       "\n",
       "#sk-container-id-1 div.sk-estimator.fitted:hover {\n",
       "  /* fitted */\n",
       "  background-color: var(--sklearn-color-fitted-level-2);\n",
       "}\n",
       "\n",
       "/* Specification for estimator info (e.g. \"i\" and \"?\") */\n",
       "\n",
       "/* Common style for \"i\" and \"?\" */\n",
       "\n",
       ".sk-estimator-doc-link,\n",
       "a:link.sk-estimator-doc-link,\n",
       "a:visited.sk-estimator-doc-link {\n",
       "  float: right;\n",
       "  font-size: smaller;\n",
       "  line-height: 1em;\n",
       "  font-family: monospace;\n",
       "  background-color: var(--sklearn-color-background);\n",
       "  border-radius: 1em;\n",
       "  height: 1em;\n",
       "  width: 1em;\n",
       "  text-decoration: none !important;\n",
       "  margin-left: 0.5em;\n",
       "  text-align: center;\n",
       "  /* unfitted */\n",
       "  border: var(--sklearn-color-unfitted-level-1) 1pt solid;\n",
       "  color: var(--sklearn-color-unfitted-level-1);\n",
       "}\n",
       "\n",
       ".sk-estimator-doc-link.fitted,\n",
       "a:link.sk-estimator-doc-link.fitted,\n",
       "a:visited.sk-estimator-doc-link.fitted {\n",
       "  /* fitted */\n",
       "  border: var(--sklearn-color-fitted-level-1) 1pt solid;\n",
       "  color: var(--sklearn-color-fitted-level-1);\n",
       "}\n",
       "\n",
       "/* On hover */\n",
       "div.sk-estimator:hover .sk-estimator-doc-link:hover,\n",
       ".sk-estimator-doc-link:hover,\n",
       "div.sk-label-container:hover .sk-estimator-doc-link:hover,\n",
       ".sk-estimator-doc-link:hover {\n",
       "  /* unfitted */\n",
       "  background-color: var(--sklearn-color-unfitted-level-3);\n",
       "  color: var(--sklearn-color-background);\n",
       "  text-decoration: none;\n",
       "}\n",
       "\n",
       "div.sk-estimator.fitted:hover .sk-estimator-doc-link.fitted:hover,\n",
       ".sk-estimator-doc-link.fitted:hover,\n",
       "div.sk-label-container:hover .sk-estimator-doc-link.fitted:hover,\n",
       ".sk-estimator-doc-link.fitted:hover {\n",
       "  /* fitted */\n",
       "  background-color: var(--sklearn-color-fitted-level-3);\n",
       "  color: var(--sklearn-color-background);\n",
       "  text-decoration: none;\n",
       "}\n",
       "\n",
       "/* Span, style for the box shown on hovering the info icon */\n",
       ".sk-estimator-doc-link span {\n",
       "  display: none;\n",
       "  z-index: 9999;\n",
       "  position: relative;\n",
       "  font-weight: normal;\n",
       "  right: .2ex;\n",
       "  padding: .5ex;\n",
       "  margin: .5ex;\n",
       "  width: min-content;\n",
       "  min-width: 20ex;\n",
       "  max-width: 50ex;\n",
       "  color: var(--sklearn-color-text);\n",
       "  box-shadow: 2pt 2pt 4pt #999;\n",
       "  /* unfitted */\n",
       "  background: var(--sklearn-color-unfitted-level-0);\n",
       "  border: .5pt solid var(--sklearn-color-unfitted-level-3);\n",
       "}\n",
       "\n",
       ".sk-estimator-doc-link.fitted span {\n",
       "  /* fitted */\n",
       "  background: var(--sklearn-color-fitted-level-0);\n",
       "  border: var(--sklearn-color-fitted-level-3);\n",
       "}\n",
       "\n",
       ".sk-estimator-doc-link:hover span {\n",
       "  display: block;\n",
       "}\n",
       "\n",
       "/* \"?\"-specific style due to the `<a>` HTML tag */\n",
       "\n",
       "#sk-container-id-1 a.estimator_doc_link {\n",
       "  float: right;\n",
       "  font-size: 1rem;\n",
       "  line-height: 1em;\n",
       "  font-family: monospace;\n",
       "  background-color: var(--sklearn-color-background);\n",
       "  border-radius: 1rem;\n",
       "  height: 1rem;\n",
       "  width: 1rem;\n",
       "  text-decoration: none;\n",
       "  /* unfitted */\n",
       "  color: var(--sklearn-color-unfitted-level-1);\n",
       "  border: var(--sklearn-color-unfitted-level-1) 1pt solid;\n",
       "}\n",
       "\n",
       "#sk-container-id-1 a.estimator_doc_link.fitted {\n",
       "  /* fitted */\n",
       "  border: var(--sklearn-color-fitted-level-1) 1pt solid;\n",
       "  color: var(--sklearn-color-fitted-level-1);\n",
       "}\n",
       "\n",
       "/* On hover */\n",
       "#sk-container-id-1 a.estimator_doc_link:hover {\n",
       "  /* unfitted */\n",
       "  background-color: var(--sklearn-color-unfitted-level-3);\n",
       "  color: var(--sklearn-color-background);\n",
       "  text-decoration: none;\n",
       "}\n",
       "\n",
       "#sk-container-id-1 a.estimator_doc_link.fitted:hover {\n",
       "  /* fitted */\n",
       "  background-color: var(--sklearn-color-fitted-level-3);\n",
       "}\n",
       "</style><div id=\"sk-container-id-1\" class=\"sk-top-container\"><div class=\"sk-text-repr-fallback\"><pre>LinearRegression()</pre><b>In a Jupyter environment, please rerun this cell to show the HTML representation or trust the notebook. <br />On GitHub, the HTML representation is unable to render, please try loading this page with nbviewer.org.</b></div><div class=\"sk-container\" hidden><div class=\"sk-item\"><div class=\"sk-estimator fitted sk-toggleable\"><input class=\"sk-toggleable__control sk-hidden--visually\" id=\"sk-estimator-id-1\" type=\"checkbox\" checked><label for=\"sk-estimator-id-1\" class=\"sk-toggleable__label fitted sk-toggleable__label-arrow\"><div><div>LinearRegression</div></div><div><a class=\"sk-estimator-doc-link fitted\" rel=\"noreferrer\" target=\"_blank\" href=\"https://scikit-learn.org/1.6/modules/generated/sklearn.linear_model.LinearRegression.html\">?<span>Documentation for LinearRegression</span></a><span class=\"sk-estimator-doc-link fitted\">i<span>Fitted</span></span></div></label><div class=\"sk-toggleable__content fitted\"><pre>LinearRegression()</pre></div> </div></div></div></div>"
      ],
      "text/plain": [
       "LinearRegression()"
      ]
     },
     "execution_count": 10,
     "metadata": {},
     "output_type": "execute_result"
    }
   ],
   "source": [
    "# We can use our original y as we have not converted the units for sales\n",
    "lm2 = LinearRegression()\n",
    "lm2.fit(X2, y)"
   ]
  },
  {
   "cell_type": "markdown",
   "id": "46e825f0",
   "metadata": {},
   "source": [
    "Look at the coefficient values from the fit on the converted budgets."
   ]
  },
  {
   "cell_type": "code",
   "execution_count": 11,
   "id": "7986359f",
   "metadata": {},
   "outputs": [
    {
     "name": "stdout",
     "output_type": "stream",
     "text": [
      "Model Coefficients\n",
      "      TV (Rupee):  0.00023\n",
      "     Radio (Won):  0.00016\n",
      "Newspaper (Cedi): -0.00017\n",
      "\n",
      "R^2: 0.8972\n"
     ]
    }
   ],
   "source": [
    "print(f'{\"Model Coefficients\":>16}')\n",
    "for col, coef in zip(X2.columns, lm2.coef_):\n",
    "    print(f'{col:>16}: {coef:>8.5f}')\n",
    "print(f'\\nR^2: {lm2.score(X2,y):.4}')"
   ]
  },
  {
   "cell_type": "markdown",
   "id": "4a1c1cbb",
   "metadata": {},
   "source": [
    "This time, scaling our predictors but *not* the response clearly caused a change in our coefficients. Thinking about this question may help you us appreciate why.\n",
    "\n",
    "**Q3**: Assume that a \\\\$1 increase in the `Radio` budget is associated with an increase in `Sales` of $25. Then a **1 Won increase** in the `Radio` budget would see Sales increase by **0.021** dollars.\n"
   ]
  },
  {
   "cell_type": "markdown",
   "id": "9d701fa3",
   "metadata": {},
   "source": [
    "**Q4**: How did your answer in **Q3** compare to the original hypothetical increase of $25? \n",
    "\n",
    "A. It was higher\\\n",
    "**B. It was lower**\\\n",
    "C. No change (scale invariant)"
   ]
  },
  {
   "cell_type": "markdown",
   "id": "045ed85f",
   "metadata": {},
   "source": [
    "Now let's investigate how the coefficients changed relative to one another. Again, we'll use a helpful visualization."
   ]
  },
  {
   "cell_type": "code",
   "execution_count": 12,
   "id": "fb910dd6",
   "metadata": {},
   "outputs": [
    {
     "data": {
      "text/plain": [
       "Text(0.5, 1.0, 'Coefficients of Linear Model Predicting Sales\\n from Newspaper, Radio, and TV Advertising Budgets (Different Currencies)')"
      ]
     },
     "execution_count": 12,
     "metadata": {},
     "output_type": "execute_result"
    },
    {
     "data": {
      "image/png": "[encoded data removed]",
      "text/plain": [
       "<Figure size 800x300 with 1 Axes>"
      ]
     },
     "metadata": {},
     "output_type": "display_data"
    }
   ],
   "source": [
    "plt.figure(figsize=(8,3))\n",
    "plt.barh(X2.columns, lm2.coef_)\n",
    "plt.axvline(0, c='k', ls='--', alpha=0.5)\n",
    "plt.ylabel('Predictor')\n",
    "plt.xlabel('Coef Values')\n",
    "plt.title('Coefficients of Linear Model Predicting Sales\\n from Newspaper, '\\\n",
    "            'Radio, and TV Advertising Budgets (Different Currencies)')"
   ]
  },
  {
   "cell_type": "markdown",
   "id": "df93b290",
   "metadata": {},
   "source": [
    "**Q5**: Based on the plot above, which advertising in which type of media has the *least* effect on sales?\n",
    "\n",
    "A. Newspaper\\\n",
    "**B. Radio**\\\n",
    "C. TV\n"
   ]
  },
  {
   "cell_type": "markdown",
   "id": "23719114",
   "metadata": {},
   "source": [
    "**Q6**: True or False: This is the same interpretation we had in our original model where all budgets were in dollars.\n",
    "**False**"
   ]
  },
  {
   "cell_type": "markdown",
   "id": "bfa55a2f",
   "metadata": {},
   "source": [
    "**Q7**: Imagine we have a 3rd regression models whose budgets have again been converted to 3 different currencies.\\\n",
    "True or False: we can compare the 2nd and 3rd models' MSE losses to determine which model's coefficients provide a more accurate interpretation of what type of media advertising has the largest effect on `Sales`.\n",
    "**False**"
   ]
  },
  {
   "cell_type": "markdown",
   "id": "be946be7",
   "metadata": {},
   "source": [
    "Finally, it's important to recognize the limits of the x-axis differ between the two bar plots we've seen so far. We can better appreciate this difference by ploting both with a shared x-axis."
   ]
  },
  {
   "cell_type": "code",
   "execution_count": 13,
   "id": "ea1164c1",
   "metadata": {},
   "outputs": [
    {
     "data": {
      "text/plain": [
       "Text(0.5, 0, 'Coefficient Values')"
      ]
     },
     "execution_count": 13,
     "metadata": {},
     "output_type": "execute_result"
    },
    {
     "data": {
      "image/png": "[encoded data removed]",
      "text/plain": [
       "<Figure size 800x600 with 2 Axes>"
      ]
     },
     "metadata": {},
     "output_type": "display_data"
    }
   ],
   "source": [
    "fig, axes = plt.subplots(2,1, figsize=(8,6), sharex=True)\n",
    "\n",
    "axes[0].barh(X.columns, lm.coef_)\n",
    "axes[0].set_title('Dollars')\n",
    "axes[1].barh(X2.columns, lm2.coef_)\n",
    "axes[1].set_title('Different Currencies')\n",
    "for ax in axes:\n",
    "    ax.axvline(0, c='k', ls='--', alpha=0.5)\n",
    "axes[0].set_ylabel('Predictor')\n",
    "axes[1].set_xlabel('Coefficient Values')"
   ]
  }
 ],
 "metadata": {
  "kernelspec": {
   "display_name": "venv",
   "language": "python",
   "name": "python3"
  },
  "language_info": {
   "codemirror_mode": {
    "name": "ipython",
    "version": 3
   },
   "file_extension": ".py",
   "mimetype": "text/x-python",
   "name": "python",
   "nbconvert_exporter": "python",
   "pygments_lexer": "ipython3",
   "version": "3.13.1"
  }
 },
 "nbformat": 4,
 "nbformat_minor": 5
}
